{
  "nbformat": 4,
  "nbformat_minor": 0,
  "metadata": {
    "colab": {
      "name": "FaceGan.ipynb",
      "provenance": []
    },
    "kernelspec": {
      "name": "python3",
      "display_name": "Python 3"
    },
    "language_info": {
      "name": "python"
    },
    "accelerator": "GPU",
    "widgets": {
      "application/vnd.jupyter.widget-state+json": {
        "3e011255a97b4d15827bedae1007aa5f": {
          "model_module": "@jupyter-widgets/controls",
          "model_name": "HBoxModel",
          "model_module_version": "1.5.0",
          "state": {
            "_view_name": "HBoxView",
            "_dom_classes": [],
            "_model_name": "HBoxModel",
            "_view_module": "@jupyter-widgets/controls",
            "_model_module_version": "1.5.0",
            "_view_count": null,
            "_view_module_version": "1.5.0",
            "box_style": "",
            "layout": "IPY_MODEL_5c124e6c803c4500956e6bce9e412ac6",
            "_model_module": "@jupyter-widgets/controls",
            "children": [
              "IPY_MODEL_e59ff63a70964f33bdd37e04e4b53128",
              "IPY_MODEL_58c16ec9d8d14fd893b604b8f650acf6",
              "IPY_MODEL_955c40436473409abf3ff9ec7f9fbc14"
            ]
          }
        },
        "5c124e6c803c4500956e6bce9e412ac6": {
          "model_module": "@jupyter-widgets/base",
          "model_name": "LayoutModel",
          "model_module_version": "1.2.0",
          "state": {
            "_view_name": "LayoutView",
            "grid_template_rows": null,
            "right": null,
            "justify_content": null,
            "_view_module": "@jupyter-widgets/base",
            "overflow": null,
            "_model_module_version": "1.2.0",
            "_view_count": null,
            "flex_flow": null,
            "width": null,
            "min_width": null,
            "border": null,
            "align_items": null,
            "bottom": null,
            "_model_module": "@jupyter-widgets/base",
            "top": null,
            "grid_column": null,
            "overflow_y": null,
            "overflow_x": null,
            "grid_auto_flow": null,
            "grid_area": null,
            "grid_template_columns": null,
            "flex": null,
            "_model_name": "LayoutModel",
            "justify_items": null,
            "grid_row": null,
            "max_height": null,
            "align_content": null,
            "visibility": null,
            "align_self": null,
            "height": null,
            "min_height": null,
            "padding": null,
            "grid_auto_rows": null,
            "grid_gap": null,
            "max_width": null,
            "order": null,
            "_view_module_version": "1.2.0",
            "grid_template_areas": null,
            "object_position": null,
            "object_fit": null,
            "grid_auto_columns": null,
            "margin": null,
            "display": null,
            "left": null
          }
        },
        "e59ff63a70964f33bdd37e04e4b53128": {
          "model_module": "@jupyter-widgets/controls",
          "model_name": "HTMLModel",
          "model_module_version": "1.5.0",
          "state": {
            "_view_name": "HTMLView",
            "style": "IPY_MODEL_69b320171fb74bf0a00ab1058261a133",
            "_dom_classes": [],
            "description": "",
            "_model_name": "HTMLModel",
            "placeholder": "​",
            "_view_module": "@jupyter-widgets/controls",
            "_model_module_version": "1.5.0",
            "value": "100%",
            "_view_count": null,
            "_view_module_version": "1.5.0",
            "description_tooltip": null,
            "_model_module": "@jupyter-widgets/controls",
            "layout": "IPY_MODEL_352e3c1ba792484cbd73e13321631558"
          }
        },
        "58c16ec9d8d14fd893b604b8f650acf6": {
          "model_module": "@jupyter-widgets/controls",
          "model_name": "FloatProgressModel",
          "model_module_version": "1.5.0",
          "state": {
            "_view_name": "ProgressView",
            "style": "IPY_MODEL_02c616226b8e456c96f4b73fc3ab6e46",
            "_dom_classes": [],
            "description": "",
            "_model_name": "FloatProgressModel",
            "bar_style": "success",
            "max": 46525,
            "_view_module": "@jupyter-widgets/controls",
            "_model_module_version": "1.5.0",
            "value": 46525,
            "_view_count": null,
            "_view_module_version": "1.5.0",
            "orientation": "horizontal",
            "min": 0,
            "description_tooltip": null,
            "_model_module": "@jupyter-widgets/controls",
            "layout": "IPY_MODEL_63d80fd6234a4a9e86078b9a2f9f1e3e"
          }
        },
        "955c40436473409abf3ff9ec7f9fbc14": {
          "model_module": "@jupyter-widgets/controls",
          "model_name": "HTMLModel",
          "model_module_version": "1.5.0",
          "state": {
            "_view_name": "HTMLView",
            "style": "IPY_MODEL_e657154c37fa49c0aaad0b45802bdedc",
            "_dom_classes": [],
            "description": "",
            "_model_name": "HTMLModel",
            "placeholder": "​",
            "_view_module": "@jupyter-widgets/controls",
            "_model_module_version": "1.5.0",
            "value": " 46525/46525 [01:13&lt;00:00, 819.51it/s]",
            "_view_count": null,
            "_view_module_version": "1.5.0",
            "description_tooltip": null,
            "_model_module": "@jupyter-widgets/controls",
            "layout": "IPY_MODEL_19414e90eb6a45b8aedb857f982b5540"
          }
        },
        "69b320171fb74bf0a00ab1058261a133": {
          "model_module": "@jupyter-widgets/controls",
          "model_name": "DescriptionStyleModel",
          "model_module_version": "1.5.0",
          "state": {
            "_view_name": "StyleView",
            "_model_name": "DescriptionStyleModel",
            "description_width": "",
            "_view_module": "@jupyter-widgets/base",
            "_model_module_version": "1.5.0",
            "_view_count": null,
            "_view_module_version": "1.2.0",
            "_model_module": "@jupyter-widgets/controls"
          }
        },
        "352e3c1ba792484cbd73e13321631558": {
          "model_module": "@jupyter-widgets/base",
          "model_name": "LayoutModel",
          "model_module_version": "1.2.0",
          "state": {
            "_view_name": "LayoutView",
            "grid_template_rows": null,
            "right": null,
            "justify_content": null,
            "_view_module": "@jupyter-widgets/base",
            "overflow": null,
            "_model_module_version": "1.2.0",
            "_view_count": null,
            "flex_flow": null,
            "width": null,
            "min_width": null,
            "border": null,
            "align_items": null,
            "bottom": null,
            "_model_module": "@jupyter-widgets/base",
            "top": null,
            "grid_column": null,
            "overflow_y": null,
            "overflow_x": null,
            "grid_auto_flow": null,
            "grid_area": null,
            "grid_template_columns": null,
            "flex": null,
            "_model_name": "LayoutModel",
            "justify_items": null,
            "grid_row": null,
            "max_height": null,
            "align_content": null,
            "visibility": null,
            "align_self": null,
            "height": null,
            "min_height": null,
            "padding": null,
            "grid_auto_rows": null,
            "grid_gap": null,
            "max_width": null,
            "order": null,
            "_view_module_version": "1.2.0",
            "grid_template_areas": null,
            "object_position": null,
            "object_fit": null,
            "grid_auto_columns": null,
            "margin": null,
            "display": null,
            "left": null
          }
        },
        "02c616226b8e456c96f4b73fc3ab6e46": {
          "model_module": "@jupyter-widgets/controls",
          "model_name": "ProgressStyleModel",
          "model_module_version": "1.5.0",
          "state": {
            "_view_name": "StyleView",
            "_model_name": "ProgressStyleModel",
            "description_width": "",
            "_view_module": "@jupyter-widgets/base",
            "_model_module_version": "1.5.0",
            "_view_count": null,
            "_view_module_version": "1.2.0",
            "bar_color": null,
            "_model_module": "@jupyter-widgets/controls"
          }
        },
        "63d80fd6234a4a9e86078b9a2f9f1e3e": {
          "model_module": "@jupyter-widgets/base",
          "model_name": "LayoutModel",
          "model_module_version": "1.2.0",
          "state": {
            "_view_name": "LayoutView",
            "grid_template_rows": null,
            "right": null,
            "justify_content": null,
            "_view_module": "@jupyter-widgets/base",
            "overflow": null,
            "_model_module_version": "1.2.0",
            "_view_count": null,
            "flex_flow": null,
            "width": null,
            "min_width": null,
            "border": null,
            "align_items": null,
            "bottom": null,
            "_model_module": "@jupyter-widgets/base",
            "top": null,
            "grid_column": null,
            "overflow_y": null,
            "overflow_x": null,
            "grid_auto_flow": null,
            "grid_area": null,
            "grid_template_columns": null,
            "flex": null,
            "_model_name": "LayoutModel",
            "justify_items": null,
            "grid_row": null,
            "max_height": null,
            "align_content": null,
            "visibility": null,
            "align_self": null,
            "height": null,
            "min_height": null,
            "padding": null,
            "grid_auto_rows": null,
            "grid_gap": null,
            "max_width": null,
            "order": null,
            "_view_module_version": "1.2.0",
            "grid_template_areas": null,
            "object_position": null,
            "object_fit": null,
            "grid_auto_columns": null,
            "margin": null,
            "display": null,
            "left": null
          }
        },
        "e657154c37fa49c0aaad0b45802bdedc": {
          "model_module": "@jupyter-widgets/controls",
          "model_name": "DescriptionStyleModel",
          "model_module_version": "1.5.0",
          "state": {
            "_view_name": "StyleView",
            "_model_name": "DescriptionStyleModel",
            "description_width": "",
            "_view_module": "@jupyter-widgets/base",
            "_model_module_version": "1.5.0",
            "_view_count": null,
            "_view_module_version": "1.2.0",
            "_model_module": "@jupyter-widgets/controls"
          }
        },
        "19414e90eb6a45b8aedb857f982b5540": {
          "model_module": "@jupyter-widgets/base",
          "model_name": "LayoutModel",
          "model_module_version": "1.2.0",
          "state": {
            "_view_name": "LayoutView",
            "grid_template_rows": null,
            "right": null,
            "justify_content": null,
            "_view_module": "@jupyter-widgets/base",
            "overflow": null,
            "_model_module_version": "1.2.0",
            "_view_count": null,
            "flex_flow": null,
            "width": null,
            "min_width": null,
            "border": null,
            "align_items": null,
            "bottom": null,
            "_model_module": "@jupyter-widgets/base",
            "top": null,
            "grid_column": null,
            "overflow_y": null,
            "overflow_x": null,
            "grid_auto_flow": null,
            "grid_area": null,
            "grid_template_columns": null,
            "flex": null,
            "_model_name": "LayoutModel",
            "justify_items": null,
            "grid_row": null,
            "max_height": null,
            "align_content": null,
            "visibility": null,
            "align_self": null,
            "height": null,
            "min_height": null,
            "padding": null,
            "grid_auto_rows": null,
            "grid_gap": null,
            "max_width": null,
            "order": null,
            "_view_module_version": "1.2.0",
            "grid_template_areas": null,
            "object_position": null,
            "object_fit": null,
            "grid_auto_columns": null,
            "margin": null,
            "display": null,
            "left": null
          }
        }
      }
    }
  },
  "cells": [
    {
      "cell_type": "markdown",
      "source": [
        "**FaceGan** - Generates 64x64 Face Images\n",
        "\n",
        "Implemented by Muhammad Hanan Asghar"
      ],
      "metadata": {
        "id": "27isjrwGAFRv"
      }
    },
    {
      "cell_type": "markdown",
      "source": [
        "![gan.png](data:image/png;base64,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)"
      ],
      "metadata": {
        "id": "FF-OBt2s_5yF"
      }
    },
    {
      "cell_type": "code",
      "execution_count": null,
      "metadata": {
        "colab": {
          "base_uri": "https://localhost:8080/"
        },
        "id": "bQ2ydYTHaPU5",
        "outputId": "d28d2d6e-c00c-4e1b-8745-1d25c34ac5d3"
      },
      "outputs": [
        {
          "output_type": "stream",
          "name": "stdout",
          "text": [
            "Fri Jan 21 15:35:54 2022       \n",
            "+-----------------------------------------------------------------------------+\n",
            "| NVIDIA-SMI 495.46       Driver Version: 460.32.03    CUDA Version: 11.2     |\n",
            "|-------------------------------+----------------------+----------------------+\n",
            "| GPU  Name        Persistence-M| Bus-Id        Disp.A | Volatile Uncorr. ECC |\n",
            "| Fan  Temp  Perf  Pwr:Usage/Cap|         Memory-Usage | GPU-Util  Compute M. |\n",
            "|                               |                      |               MIG M. |\n",
            "|===============================+======================+======================|\n",
            "|   0  Tesla T4            Off  | 00000000:00:04.0 Off |                    0 |\n",
            "| N/A   35C    P8     9W /  70W |      0MiB / 15109MiB |      0%      Default |\n",
            "|                               |                      |                  N/A |\n",
            "+-------------------------------+----------------------+----------------------+\n",
            "                                                                               \n",
            "+-----------------------------------------------------------------------------+\n",
            "| Processes:                                                                  |\n",
            "|  GPU   GI   CI        PID   Type   Process name                  GPU Memory |\n",
            "|        ID   ID                                                   Usage      |\n",
            "|=============================================================================|\n",
            "|  No running processes found                                                 |\n",
            "+-----------------------------------------------------------------------------+\n"
          ]
        }
      ],
      "source": [
        "!nvidia-smi"
      ]
    },
    {
      "cell_type": "code",
      "source": [
        "from google.colab import drive\n",
        "drive.mount(\"/content/drive\")"
      ],
      "metadata": {
        "colab": {
          "base_uri": "https://localhost:8080/"
        },
        "id": "vD3vhuizaUv0",
        "outputId": "5dbc87b0-9455-4d8e-a339-8f7f6e929af5"
      },
      "execution_count": null,
      "outputs": [
        {
          "output_type": "stream",
          "name": "stdout",
          "text": [
            "Mounted at /content/drive\n"
          ]
        }
      ]
    },
    {
      "cell_type": "code",
      "source": [
        "! pip install -q kaggle\n",
        "! mkdir ~/.kaggle\n",
        "! cp kaggle.json ~/.kaggle/\n",
        "! chmod 600 ~/.kaggle/kaggle.json"
      ],
      "metadata": {
        "id": "dmgiq3GKb34J"
      },
      "execution_count": null,
      "outputs": []
    },
    {
      "cell_type": "code",
      "source": [
        "!kaggle datasets download -d muhammadhananasghar/faces-dataset"
      ],
      "metadata": {
        "id": "2aa4wJTjdA7a",
        "colab": {
          "base_uri": "https://localhost:8080/"
        },
        "outputId": "d2bff2d6-446d-48fb-9d82-813f6dd7414b"
      },
      "execution_count": null,
      "outputs": [
        {
          "output_type": "stream",
          "name": "stdout",
          "text": [
            "Downloading faces-dataset.zip to /content\n",
            " 98% 786M/805M [00:04<00:00, 235MB/s]\n",
            "100% 805M/805M [00:04<00:00, 202MB/s]\n"
          ]
        }
      ]
    },
    {
      "cell_type": "code",
      "source": [
        "!unzip *.zip && rm -rf *.zip"
      ],
      "metadata": {
        "id": "CsE0MhbOdFVJ"
      },
      "execution_count": null,
      "outputs": []
    },
    {
      "cell_type": "code",
      "source": [
        "def imShow(image):\n",
        "  import matplotlib.pyplot as plt\n",
        "  import cv2\n",
        "  %matplotlib inline\n",
        "\n",
        "  image_read = cv2.imread(image)\n",
        "  height, width = 224, 224\n",
        "  resized_image = cv2.resize(image_read, (height, width), interpolation=cv2.INTER_CUBIC)\n",
        "  plt.axis(\"off\")\n",
        "  plt.imshow(cv2.cvtColor(resized_image, cv2.COLOR_BGR2RGB))"
      ],
      "metadata": {
        "id": "ZleS7ri0kHEH"
      },
      "execution_count": null,
      "outputs": []
    },
    {
      "cell_type": "code",
      "source": [
        "import os\n",
        "\n",
        "IMAGES = \"/content/Faces\"\n",
        "print(len(os.listdir(IMAGES)))"
      ],
      "metadata": {
        "id": "HKgmrulElB_l",
        "colab": {
          "base_uri": "https://localhost:8080/"
        },
        "outputId": "fef62f27-9580-40e8-9fb6-02ef659a83e8"
      },
      "execution_count": null,
      "outputs": [
        {
          "output_type": "stream",
          "name": "stdout",
          "text": [
            "46525\n"
          ]
        }
      ]
    },
    {
      "cell_type": "code",
      "source": [
        "import random\n",
        "import os\n",
        " \n",
        "img_path = os.path.join(IMAGES, random.choice(os.listdir(IMAGES)))\n",
        "print(img_path)\n",
        "imShow(img_path)"
      ],
      "metadata": {
        "colab": {
          "base_uri": "https://localhost:8080/",
          "height": 266
        },
        "id": "rcqiarv0k8ZH",
        "outputId": "b6a36011-061a-4c4c-8a48-d9ba0448e7cb"
      },
      "execution_count": null,
      "outputs": [
        {
          "output_type": "stream",
          "name": "stdout",
          "text": [
            "/content/Faces/OTkzMjI5LmpwZw.jpg\n"
          ]
        },
        {
          "output_type": "display_data",
          "data": {
            "image/png": "[encoded data removed]",
            "text/plain": [
              "<Figure size 432x288 with 1 Axes>"
            ]
          },
          "metadata": {
            "needs_background": "light"
          }
        }
      ]
    },
    {
      "cell_type": "markdown",
      "source": [
        "#Importing Libraries"
      ],
      "metadata": {
        "id": "c3kL5s21lkE_"
      }
    },
    {
      "cell_type": "code",
      "source": [
        "import tensorflow as tf\n",
        "from tensorflow.keras.layers import Input, Reshape, Dropout, Dense \n",
        "from tensorflow.keras.layers import Flatten, BatchNormalization\n",
        "from tensorflow.keras.layers import Activation, ZeroPadding2D\n",
        "from tensorflow.keras.layers import LeakyReLU\n",
        "from tensorflow.keras.layers import UpSampling2D, Conv2D, MaxPooling2D,GlobalAveragePooling2D, Conv2DTranspose\n",
        "from tensorflow.keras.models import Sequential, Model, load_model\n",
        "from tensorflow.keras.optimizers import Adam\n",
        "import numpy as np\n",
        "from PIL import Image\n",
        "from tqdm.notebook import tqdm\n",
        "import os \n",
        "import time\n",
        "import matplotlib.pyplot as plt"
      ],
      "metadata": {
        "id": "yMQ_xqSzk8sI"
      },
      "execution_count": null,
      "outputs": []
    },
    {
      "cell_type": "code",
      "source": [
        "IMAGE_SIZE = 64\n",
        "CHANNELS = 3\n",
        "\n",
        "SEED = 100\n",
        "\n",
        "# Preview of images during training\n",
        "PREVIEW_ROWS = 4\n",
        "PREVIEW_COLS = 7\n",
        "PREVIEW_MARGIN = 16\n",
        "\n",
        "IMAGES = \"/content/Faces\"\n",
        "EPOCHS = 350\n",
        "BATCH_SIZE = 64\n",
        "# Buffer size is set to the total size of dataset\n",
        "BUFFER_SIZE = len(os.listdir(IMAGES))"
      ],
      "metadata": {
        "id": "DE0PmRW3k8wk"
      },
      "execution_count": null,
      "outputs": []
    },
    {
      "cell_type": "code",
      "source": [
        "BUFFER_SIZE"
      ],
      "metadata": {
        "colab": {
          "base_uri": "https://localhost:8080/"
        },
        "id": "oBscZG-LmiHl",
        "outputId": "f7c3ab33-29a6-44ba-f0f7-3b79d84b5ada"
      },
      "execution_count": null,
      "outputs": [
        {
          "output_type": "execute_result",
          "data": {
            "text/plain": [
              "46525"
            ]
          },
          "metadata": {},
          "execution_count": 12
        }
      ]
    },
    {
      "cell_type": "code",
      "source": [
        "print(f\"This GAN will generate {IMAGE_SIZE}px square images.\")"
      ],
      "metadata": {
        "colab": {
          "base_uri": "https://localhost:8080/"
        },
        "id": "gKy_S2CEmyli",
        "outputId": "96c4377e-c877-46a1-c2cb-2c6a185121b5"
      },
      "execution_count": null,
      "outputs": [
        {
          "output_type": "stream",
          "name": "stdout",
          "text": [
            "This GAN will generate 96px square images.\n"
          ]
        }
      ]
    },
    {
      "cell_type": "code",
      "source": [
        "# 1=32, 2=64, 3=96. 4=128, 5=224 etc..."
      ],
      "metadata": {
        "id": "XD2jawmBuM3D"
      },
      "execution_count": null,
      "outputs": []
    },
    {
      "cell_type": "markdown",
      "source": [
        "#Doing Preprocessing"
      ],
      "metadata": {
        "id": "nzrE36-Ym-gD"
      }
    },
    {
      "cell_type": "code",
      "source": [
        "import cv2\n",
        "\n",
        "training_data = []\n",
        "\n",
        "for filename in tqdm(os.listdir(IMAGES)):\n",
        "  img_path = os.path.join(IMAGES,filename)\n",
        "  img_r = cv2.imread(img_path)\n",
        "  img_res = cv2.resize(img_r, (IMAGE_SIZE, IMAGE_SIZE))\n",
        "  img_c = cv2.cvtColor(img_res, cv2.COLOR_BGR2RGB)\n",
        "  training_data.append(img_c)"
      ],
      "metadata": {
        "colab": {
          "base_uri": "https://localhost:8080/",
          "height": 49,
          "referenced_widgets": [
            "3e011255a97b4d15827bedae1007aa5f",
            "5c124e6c803c4500956e6bce9e412ac6",
            "e59ff63a70964f33bdd37e04e4b53128",
            "58c16ec9d8d14fd893b604b8f650acf6",
            "955c40436473409abf3ff9ec7f9fbc14",
            "69b320171fb74bf0a00ab1058261a133",
            "352e3c1ba792484cbd73e13321631558",
            "02c616226b8e456c96f4b73fc3ab6e46",
            "63d80fd6234a4a9e86078b9a2f9f1e3e",
            "e657154c37fa49c0aaad0b45802bdedc",
            "19414e90eb6a45b8aedb857f982b5540"
          ]
        },
        "id": "xm1UAFOLm4RG",
        "outputId": "522584bc-731b-44fa-bf49-6b671ee2672c"
      },
      "execution_count": null,
      "outputs": [
        {
          "output_type": "display_data",
          "data": {
            "application/vnd.jupyter.widget-view+json": {
              "model_id": "3e011255a97b4d15827bedae1007aa5f",
              "version_minor": 0,
              "version_major": 2
            },
            "text/plain": [
              "  0%|          | 0/46525 [00:00<?, ?it/s]"
            ]
          },
          "metadata": {}
        }
      ]
    },
    {
      "cell_type": "code",
      "source": [
        "training_data = np.reshape(training_data, (-1, IMAGE_SIZE, IMAGE_SIZE, CHANNELS))\n",
        "training_data = training_data.astype(np.float32)\n",
        "training_data = training_data / 255"
      ],
      "metadata": {
        "id": "fvcghpvBosE3"
      },
      "execution_count": null,
      "outputs": []
    },
    {
      "cell_type": "code",
      "source": [
        "np.save('datafaces_96x.npy', training_data)"
      ],
      "metadata": {
        "id": "-TNsAEnDhiRS"
      },
      "execution_count": null,
      "outputs": []
    },
    {
      "cell_type": "code",
      "source": [
        "!cp \"/content/datafaces_96x.npy\" \"/content/drive/MyDrive\""
      ],
      "metadata": {
        "id": "S_T2Ylj2h5Lf",
        "colab": {
          "base_uri": "https://localhost:8080/"
        },
        "outputId": "b8a611e2-9bf0-4144-bd51-33a727e97294"
      },
      "execution_count": null,
      "outputs": [
        {
          "output_type": "stream",
          "name": "stdout",
          "text": [
            "^C\n"
          ]
        }
      ]
    },
    {
      "cell_type": "code",
      "source": [
        "training_data = np.load(\"datafaces_64x.npy\")"
      ],
      "metadata": {
        "id": "l1bUu6noi8iq"
      },
      "execution_count": null,
      "outputs": []
    },
    {
      "cell_type": "code",
      "source": [
        "# Batch and shuffle the data\n",
        "train_dataset = tf.data.Dataset.from_tensor_slices(training_data).shuffle(BUFFER_SIZE).batch(BATCH_SIZE)"
      ],
      "metadata": {
        "id": "J23aJJipiPGl"
      },
      "execution_count": null,
      "outputs": []
    },
    {
      "cell_type": "code",
      "source": [
        "print(train_dataset)"
      ],
      "metadata": {
        "colab": {
          "base_uri": "https://localhost:8080/"
        },
        "id": "-E4ljc3Yiunv",
        "outputId": "4e3ffb5d-399a-4764-f87b-dc36bba20fc7"
      },
      "execution_count": null,
      "outputs": [
        {
          "output_type": "stream",
          "name": "stdout",
          "text": [
            "<BatchDataset shapes: (None, 64, 64, 3), types: tf.float32>\n"
          ]
        }
      ]
    },
    {
      "cell_type": "markdown",
      "source": [
        "#Generator"
      ],
      "metadata": {
        "id": "Vgt02DV3np1V"
      }
    },
    {
      "cell_type": "code",
      "source": [
        "def build_generator(SEED_SIZE):\n",
        "  noise_shape = (SEED_SIZE,)\n",
        "\n",
        "  model = Sequential()\n",
        "  model.add(Dense(4 * 4 * 64, activation=\"relu\", input_shape=noise_shape))\n",
        "  model.add(Reshape((4, 4, 64)))\n",
        "  model.add(BatchNormalization(momentum=0.8))\n",
        "  # After this layer fake image size 4 x 4 x 64\n",
        "\n",
        "  model.add(UpSampling2D()) #This layer doubles the resolution\n",
        "  model.add(Conv2D(1024, (3, 3), padding=\"same\"))\n",
        "  model.add(Activation(\"relu\"))\n",
        "  model.add(BatchNormalization(momentum=0.8))\n",
        "  # After this layer 8 x 8 x 1024\n",
        "\n",
        "  model.add(UpSampling2D()) #This layer doubles the resolution\n",
        "  model.add(Conv2D(512, (3, 3), padding=\"same\"))\n",
        "  model.add(Activation(\"relu\"))\n",
        "  model.add(BatchNormalization(momentum=0.8))\n",
        "  # After this layer 16 x 16 x 512\n",
        "\n",
        "  model.add(UpSampling2D()) #This layer doubles the resolution\n",
        "  model.add(Conv2D(256, (3, 3), padding=\"same\"))\n",
        "  model.add(Activation(\"relu\"))\n",
        "  model.add(BatchNormalization(momentum=0.8))\n",
        "  # After this layer 32 x 32 x 256\n",
        "\n",
        "  model.add(UpSampling2D()) #This layer doubles the resolution\n",
        "  model.add(Conv2D(512, (3, 3), padding=\"same\"))\n",
        "  model.add(Activation(\"relu\"))\n",
        "  model.add(BatchNormalization(momentum=0.8))\n",
        "  # After this layer 64 x 64 x 512\n",
        "\n",
        "  model.add(Conv2D(128, (3, 3), padding=\"same\"))\n",
        "  model.add(Activation(\"relu\"))\n",
        "  model.add(BatchNormalization(momentum=0.8))\n",
        "  # After this layer 64 x 64 x 128\n",
        "\n",
        "  model.add(Conv2D(32, (3, 3), padding=\"same\"))\n",
        "  model.add(Activation(\"relu\"))\n",
        "  model.add(BatchNormalization(momentum=0.8))\n",
        "  # After this layer 64 x 64 x 32\n",
        "\n",
        "  model.add(Conv2D(3, (3, 3), padding=\"same\"))\n",
        "  model.add(Activation(\"sigmoid\")) # because == /255 if /127.5 - 1. then use tanh\n",
        "  # After this layer 64 x 64 x 3\n",
        "\n",
        "  # model.summary()\n",
        "  return model\n",
        "\n"
      ],
      "metadata": {
        "id": "lG84QIUQjs4h"
      },
      "execution_count": null,
      "outputs": []
    },
    {
      "cell_type": "markdown",
      "source": [
        "#Discriminator"
      ],
      "metadata": {
        "id": "XF9GpOHGnsYE"
      }
    },
    {
      "cell_type": "code",
      "source": [
        "def build_discriminator(image_shape):\n",
        "  \n",
        "  model = Sequential()\n",
        "  # 64, 64, 3\n",
        "  model.add(Conv2D(32, (3, 3), strides=2, padding=\"same\", input_shape=image_shape))\n",
        "  model.add(LeakyReLU(alpha=0.2))\n",
        "  # After this 32 x 32 x 32\n",
        "\n",
        "  model.add(Dropout(rate=0.25))\n",
        "  model.add(Conv2D(64, (3, 3), strides=2, padding=\"same\"))\n",
        "  model.add(LeakyReLU(alpha=0.2))\n",
        "  model.add(BatchNormalization(momentum=0.8))\n",
        "  # After this 16 x 16 x 64\n",
        "\n",
        "  model.add(Dropout(rate=0.25))\n",
        "  model.add(Conv2D(128, (3, 3), strides=1, padding=\"same\"))\n",
        "  model.add(LeakyReLU(alpha=0.2))\n",
        "  model.add(BatchNormalization(momentum=0.8))\n",
        "  # After this 8 x 8 x 128\n",
        "\n",
        "  model.add(Dropout(rate=0.25))\n",
        "  model.add(Conv2D(256, (3, 3), strides=1, padding=\"same\"))\n",
        "  model.add(LeakyReLU(alpha=0.2))\n",
        "  model.add(BatchNormalization(momentum=0.8))\n",
        "  # After this 4 x 4 x 256\n",
        "\n",
        "  model.add(Flatten()) # 4 * 4 *256\n",
        "\n",
        "  model.add(Dense(512))\n",
        "  model.add(LeakyReLU(alpha=0.2))\n",
        "  model.add(Dropout(0.2))\n",
        "\n",
        "  model.add(Dense(1))\n",
        "  model.add(Activation(\"sigmoid\"))\n",
        "\n",
        "  # model.summary()\n",
        "\n",
        "  return model"
      ],
      "metadata": {
        "id": "tcEQNzCxjs-l"
      },
      "execution_count": null,
      "outputs": []
    },
    {
      "cell_type": "code",
      "source": [
        "generator = build_generator(SEED)"
      ],
      "metadata": {
        "id": "m-uV9zkId8Hr"
      },
      "execution_count": null,
      "outputs": []
    },
    {
      "cell_type": "code",
      "source": [
        "def imShow(image):\n",
        "  import matplotlib.pyplot as plt\n",
        "  import cv2\n",
        "  %matplotlib inline\n",
        "\n",
        "  height, width = 64, 64\n",
        "  resized_image = cv2.resize(image, (height, width), interpolation=cv2.INTER_CUBIC)\n",
        "  plt.axis(\"off\")\n",
        "  plt.imshow(cv2.cvtColor(resized_image, cv2.COLOR_BGR2RGB))"
      ],
      "metadata": {
        "id": "q1j1V0W2ps6l"
      },
      "execution_count": null,
      "outputs": []
    },
    {
      "cell_type": "code",
      "source": [
        "noise = tf.random.normal([1, SEED])\n",
        "generated_image = generator(noise, training=False)\n",
        "\n",
        "imShow(generated_image[0].numpy())"
      ],
      "metadata": {
        "colab": {
          "base_uri": "https://localhost:8080/",
          "height": 248
        },
        "id": "AA2TxYHoqRsO",
        "outputId": "e8069d12-d91c-4430-d84e-5bdf16e51216"
      },
      "execution_count": null,
      "outputs": [
        {
          "output_type": "display_data",
          "data": {
            "image/png": "[encoded data removed]",
            "text/plain": [
              "<Figure size 432x288 with 1 Axes>"
            ]
          },
          "metadata": {
            "needs_background": "light"
          }
        }
      ]
    },
    {
      "cell_type": "code",
      "source": [
        "image_shape = (IMAGE_SIZE,IMAGE_SIZE,CHANNELS)\n",
        " \n",
        "discriminator = build_discriminator(image_shape)\n",
        "decision = discriminator(generated_image)"
      ],
      "metadata": {
        "id": "k5AqLWDbqUH_"
      },
      "execution_count": null,
      "outputs": []
    },
    {
      "cell_type": "code",
      "source": [
        "print(decision)"
      ],
      "metadata": {
        "colab": {
          "base_uri": "https://localhost:8080/"
        },
        "id": "LoZ5Hz-jrHNY",
        "outputId": "716bade4-eb28-4067-a821-efc8cdcc9b84"
      },
      "execution_count": null,
      "outputs": [
        {
          "output_type": "stream",
          "name": "stdout",
          "text": [
            "tf.Tensor([[0.49636322]], shape=(1, 1), dtype=float32)\n"
          ]
        }
      ]
    },
    {
      "cell_type": "markdown",
      "source": [
        "#Losses"
      ],
      "metadata": {
        "id": "pJN3OsM0rTmd"
      }
    },
    {
      "cell_type": "code",
      "source": [
        "cross_entropy = tf.keras.losses.BinaryCrossentropy(from_logits=True)\n",
        "\n",
        "def discriminator_loss(real_output, fake_output):\n",
        "    real_loss = cross_entropy(tf.ones_like(real_output), real_output)\n",
        "    fake_loss = cross_entropy(tf.zeros_like(fake_output), fake_output)\n",
        "    total_loss = real_loss + fake_loss\n",
        "    return total_loss\n",
        "\n",
        "def generator_loss(fake_output):\n",
        "    return cross_entropy(tf.ones_like(fake_output), fake_output)"
      ],
      "metadata": {
        "id": "jqqN6tSGrJHr"
      },
      "execution_count": null,
      "outputs": []
    },
    {
      "cell_type": "markdown",
      "source": [
        "#Optimizers"
      ],
      "metadata": {
        "id": "_l7P0pxzrxH5"
      }
    },
    {
      "cell_type": "code",
      "source": [
        "generator_optimizer = tf.keras.optimizers.Adam(1.5e-4,0.5)\n",
        "discriminator_optimizer = tf.keras.optimizers.Adam(1.5e-4,0.5)"
      ],
      "metadata": {
        "id": "7wwL85bMruXl"
      },
      "execution_count": null,
      "outputs": []
    },
    {
      "cell_type": "markdown",
      "source": [
        "#Saving"
      ],
      "metadata": {
        "id": "HxdiwS6Mr9lg"
      }
    },
    {
      "cell_type": "code",
      "source": [
        "def save_images(cnt,noise):\n",
        "  image_array = np.full(( \n",
        "      PREVIEW_MARGIN + (PREVIEW_ROWS * (IMAGE_SIZE+PREVIEW_MARGIN)), \n",
        "      PREVIEW_MARGIN + (PREVIEW_COLS * (IMAGE_SIZE+PREVIEW_MARGIN)), 3), \n",
        "      255, dtype=np.uint8)\n",
        "  \n",
        "  generated_images = generator.predict(noise)\n",
        " \n",
        "  #generated_images = 0.5 * generated_images + 0.5\n",
        " \n",
        "  image_count = 0\n",
        "  for row in range(PREVIEW_ROWS):\n",
        "      for col in range(PREVIEW_COLS):\n",
        "        r = row * (IMAGE_SIZE+16) + PREVIEW_MARGIN\n",
        "        c = col * (IMAGE_SIZE+16) + PREVIEW_MARGIN\n",
        "        image_array[r:r+IMAGE_SIZE,c:c+IMAGE_SIZE] = generated_images[image_count] * 255\n",
        "        image_count += 1\n",
        " \n",
        "  filename = os.path.join(\"/content/drive/MyDrive/GAN/output\",f\"train-{cnt}.png\")\n",
        "  im = Image.fromarray(image_array)\n",
        "  im.save(filename)\n",
        "  if int(cnt)%5 == 0:\n",
        "    generator.save(os.path.join('/content/drive/MyDrive/GAN/model', f\"train-{cnt}.h5\"))\n",
        "    print(\"Saved Infrences at {}.\".format(cnt))"
      ],
      "metadata": {
        "id": "jQxCggAwryfz"
      },
      "execution_count": null,
      "outputs": []
    },
    {
      "cell_type": "markdown",
      "source": [
        "#Training"
      ],
      "metadata": {
        "id": "_EFQKQmnsbXf"
      }
    },
    {
      "cell_type": "code",
      "source": [
        "@tf.function\n",
        "def train_step(images):\n",
        "  seed = tf.random.normal([BATCH_SIZE, SEED])\n",
        "  # GradientTape make generator and discriminator trains together\n",
        "  with tf.GradientTape() as gen_tape, tf.GradientTape() as disc_tape:\n",
        "    # Generate Fake Image from generator\n",
        "    generated_images = generator(seed, training=True)\n",
        "    # Training real dataset images in discriminator\n",
        "    real_output = discriminator(images, training=True)\n",
        "    # Training generator generated images in discriminator\n",
        "    fake_output = discriminator(generated_images, training=True)\n",
        "    # Calculate Generator loss\n",
        "    gen_loss = generator_loss(fake_output)\n",
        "    # Calculate Discriminator loss\n",
        "    disc_loss = discriminator_loss(real_output, fake_output)\n",
        "\n",
        "    # Getting Generator Model Gradients\n",
        "    gradients_of_generator = gen_tape.gradient(gen_loss, generator.trainable_variables)\n",
        "    # Getting Discriminator Model Gradients\n",
        "    gradients_of_discriminator = disc_tape.gradient(disc_loss, discriminator.trainable_variables)\n",
        "\n",
        "    # Updating Generator Model Gradients\n",
        "    generator_optimizer.apply_gradients(zip(gradients_of_generator, generator.trainable_variables))\n",
        "\n",
        "    # Updating Discriminator Model Gradients\n",
        "    discriminator_optimizer.apply_gradients(zip(gradients_of_discriminator, discriminator.trainable_variables))\n",
        "\n",
        "  return gen_loss,disc_loss, real_output, fake_output"
      ],
      "metadata": {
        "id": "c_RTBgYesRnJ"
      },
      "execution_count": null,
      "outputs": []
    },
    {
      "cell_type": "code",
      "source": [
        "# Creating Training Function\n",
        "def train(dataset, epochs):\n",
        "  # Size of image saved during training\n",
        "  fixed_seed = np.random.normal(0, 1, (PREVIEW_ROWS * PREVIEW_COLS, SEED))\n",
        "  # Number of Images\n",
        "  num_of_images = len(os.listdir('Faces'))\n",
        "\n",
        "  # Start\n",
        "  for epoch in range(epochs):\n",
        "\n",
        "    # Defining Variables\n",
        "    gen_loss_list = []\n",
        "    disc_loss_list = []\n",
        "    real_list = []\n",
        "    fake_list = []\n",
        "\n",
        "    # Iterating through images\n",
        "    for image_batch in tqdm(dataset, position=1, leave=True, total = int(num_of_images/BATCH_SIZE)):\n",
        "      # Training Batch\n",
        "      t = train_step(image_batch)\n",
        "      # Saving Data of current batch\n",
        "      gen_loss_list.append(t[0])\n",
        "      disc_loss_list.append(t[1])\n",
        "\n",
        "      real_out = t[2].numpy()\n",
        "      fake_out = t[3].numpy()\n",
        "\n",
        "      # If discriminator Real Image output is greater than 0.5 then == 1.\n",
        "      # If discrimintor Real Image output is less than and equal to 0.5 then == 0.\n",
        "      real_out[real_out > .5] = 1\n",
        "      real_out[real_out <= .5] = 0\n",
        "\n",
        "      # Height and Width of real image\n",
        "      height, width = real_out.shape[:2]\n",
        "      real_right = sum(real_out) / (height * width)\n",
        "\n",
        "      real_list.append(real_right)\n",
        "      # If discriminator Fake Image output is greater than 0.5 then == 0.\n",
        "      # If discrimintor Fake Image output is less than and equal to 0.5 then == 1.\n",
        "      fake_out[fake_out > .5] = 0\n",
        "      fake_out[fake_out <= .5] = 1\n",
        "\n",
        "      height, width = fake_out.shape[:2]\n",
        "      fake_right = sum(fake_out) / (height * width)\n",
        "\n",
        "      fake_list.append(fake_right)\n",
        "\n",
        "    # Calculating Losses and Accuracy Average\n",
        "    g_loss = sum(gen_loss_list) / len(gen_loss_list)\n",
        "    d_loss = sum(disc_loss_list) / len(disc_loss_list)\n",
        "    r_acc = sum(real_list) / len(real_list)\n",
        "    f_acc = sum(fake_list) / len(fake_list)\n",
        "\n",
        "    print (f'Epoch {epoch+1}, Gen Loss = {g_loss}, Disc Loss = {d_loss}')\n",
        "    # Saving Image\n",
        "    save_images(epoch+1,fixed_seed)"
      ],
      "metadata": {
        "id": "_kmzsG2xttKn"
      },
      "execution_count": null,
      "outputs": []
    },
    {
      "cell_type": "code",
      "source": [
        "train(train_dataset, 1000)"
      ],
      "metadata": {
        "id": "ohOMcFK8wg9D"
      },
      "execution_count": null,
      "outputs": []
    },
    {
      "cell_type": "code",
      "source": [
        "import os\n",
        "\n",
        "images = [os.path.join(\"/content/drive/MyDrive/GAN/output\", img) for img in os.listdir(\"/content/drive/MyDrive/GAN/output\")]\n",
        "print(images)"
      ],
      "metadata": {
        "id": "9g288VJJDrun",
        "colab": {
          "base_uri": "https://localhost:8080/"
        },
        "outputId": "24d2c408-02e6-4a72-ac1c-b79de8100646"
      },
      "execution_count": null,
      "outputs": [
        {
          "output_type": "stream",
          "name": "stdout",
          "text": [
            "['/content/drive/MyDrive/GAN/output/train-1.png', '/content/drive/MyDrive/GAN/output/train-2.png', '/content/drive/MyDrive/GAN/output/train-3.png', '/content/drive/MyDrive/GAN/output/train-4.png', '/content/drive/MyDrive/GAN/output/train-5.png', '/content/drive/MyDrive/GAN/output/train-6.png', '/content/drive/MyDrive/GAN/output/train-7.png', '/content/drive/MyDrive/GAN/output/train-8.png', '/content/drive/MyDrive/GAN/output/train-9.png', '/content/drive/MyDrive/GAN/output/train-10.png', '/content/drive/MyDrive/GAN/output/train-11.png', '/content/drive/MyDrive/GAN/output/train-12.png', '/content/drive/MyDrive/GAN/output/train-13.png', '/content/drive/MyDrive/GAN/output/train-14.png', '/content/drive/MyDrive/GAN/output/train-15.png', '/content/drive/MyDrive/GAN/output/train-16.png', '/content/drive/MyDrive/GAN/output/train-17.png', '/content/drive/MyDrive/GAN/output/train-18.png', '/content/drive/MyDrive/GAN/output/train-19.png', '/content/drive/MyDrive/GAN/output/train-20.png', '/content/drive/MyDrive/GAN/output/train-21.png', '/content/drive/MyDrive/GAN/output/train-22.png', '/content/drive/MyDrive/GAN/output/train-23.png', '/content/drive/MyDrive/GAN/output/train-24.png', '/content/drive/MyDrive/GAN/output/train-25.png', '/content/drive/MyDrive/GAN/output/train-26.png', '/content/drive/MyDrive/GAN/output/train-27.png', '/content/drive/MyDrive/GAN/output/train-28.png', '/content/drive/MyDrive/GAN/output/train-29.png', '/content/drive/MyDrive/GAN/output/train-30.png', '/content/drive/MyDrive/GAN/output/train-31.png', '/content/drive/MyDrive/GAN/output/train-32.png', '/content/drive/MyDrive/GAN/output/train-33.png', '/content/drive/MyDrive/GAN/output/train-34.png', '/content/drive/MyDrive/GAN/output/train-35.png', '/content/drive/MyDrive/GAN/output/train-36.png', '/content/drive/MyDrive/GAN/output/train-37.png', '/content/drive/MyDrive/GAN/output/train-38.png', '/content/drive/MyDrive/GAN/output/train-39.png', '/content/drive/MyDrive/GAN/output/train-40.png', '/content/drive/MyDrive/GAN/output/train-41.png']\n"
          ]
        }
      ]
    },
    {
      "cell_type": "code",
      "source": [
        "import os\n",
        "import moviepy.video.io.ImageSequenceClip\n",
        "image_folder='/content/drive/MyDrive/GAN/output'\n",
        "fps=1\n",
        "\n",
        "image_files = [os.path.join(image_folder,img)\n",
        "               for img in os.listdir(image_folder)\n",
        "               if img.endswith(\".png\")]\n",
        "clip = moviepy.video.io.ImageSequenceClip.ImageSequenceClip(image_files, fps=fps)\n",
        "clip.write_videofile('ha_gan.mp4')"
      ],
      "metadata": {
        "colab": {
          "base_uri": "https://localhost:8080/"
        },
        "id": "N-0wka9lRpzc",
        "outputId": "a7adecbd-63d6-4447-c0d1-06c1bdccd737"
      },
      "execution_count": null,
      "outputs": [
        {
          "output_type": "stream",
          "name": "stdout",
          "text": [
            "[MoviePy] >>>> Building video ha_gan.mp4\n",
            "[MoviePy] Writing video ha_gan.mp4\n"
          ]
        },
        {
          "output_type": "stream",
          "name": "stderr",
          "text": [
            " 98%|█████████▊| 41/42 [00:01<00:00, 26.89it/s]\n"
          ]
        },
        {
          "output_type": "stream",
          "name": "stdout",
          "text": [
            "[MoviePy] Done.\n",
            "[MoviePy] >>>> Video ready: ha_gan.mp4 \n",
            "\n"
          ]
        }
      ]
    },
    {
      "cell_type": "code",
      "source": [
        "import matplotlib.pyplot as plt\n",
        "import cv2\n",
        "%matplotlib inline"
      ],
      "metadata": {
        "id": "2tKn98iKSfee"
      },
      "execution_count": null,
      "outputs": []
    },
    {
      "cell_type": "code",
      "source": [
        "generator_x = tf.keras.models.load_model(\"/content/drive/MyDrive/GAN/model/train-40.h5\", compile=False)\n",
        "noise = tf.random.normal([1, SEED])\n",
        "generated_image = generator_x(noise, training=False)\n",
        "random_array = generated_image[0].numpy() * 255\n",
        "random_array = random_array.astype(np.uint8)\n",
        "random_image = Image.fromarray(random_array)\n",
        "plt.axis(\"off\")\n",
        "plt.imshow(random_image)"
      ],
      "metadata": {
        "colab": {
          "base_uri": "https://localhost:8080/",
          "height": 266
        },
        "id": "OYCIqyMzWxzz",
        "outputId": "1e67f208-ea7a-4f3e-e04a-4557fa9db1f2"
      },
      "execution_count": null,
      "outputs": [
        {
          "output_type": "execute_result",
          "data": {
            "text/plain": [
              "<matplotlib.image.AxesImage at 0x7ff67677d190>"
            ]
          },
          "metadata": {},
          "execution_count": 103
        },
        {
          "output_type": "display_data",
          "data": {
            "image/png": "[encoded data removed]",
            "text/plain": [
              "<Figure size 432x288 with 1 Axes>"
            ]
          },
          "metadata": {
            "needs_background": "light"
          }
        }
      ]
    },
    {
      "cell_type": "code",
      "source": [
        ""
      ],
      "metadata": {
        "colab": {
          "base_uri": "https://localhost:8080/",
          "height": 266
        },
        "id": "WxUd2uD-YinK",
        "outputId": "99bb70fc-3b63-4232-e579-314781c11694"
      },
      "execution_count": null,
      "outputs": [
        {
          "output_type": "execute_result",
          "data": {
            "text/plain": [
              "<matplotlib.image.AxesImage at 0x7ff677946a90>"
            ]
          },
          "metadata": {},
          "execution_count": 98
        },
        {
          "output_type": "display_data",
          "data": {
            "image/png": "[encoded data removed]",
            "text/plain": [
              "<Figure size 432x288 with 1 Axes>"
            ]
          },
          "metadata": {
            "needs_background": "light"
          }
        }
      ]
    }
  ]
}